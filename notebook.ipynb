{
 "cells": [
  {
   "cell_type": "markdown",
   "metadata": {},
   "source": [
    "# Machine Learning vs Deep Learning "
   ]
  },
  {
   "cell_type": "markdown",
   "metadata": {},
   "source": [
    "## Data Collection and Preprocessing\n",
    "Dataset : MINST"
   ]
  },
  {
   "cell_type": "markdown",
   "metadata": {},
   "source": [
    "### Imports"
   ]
  },
  {
   "cell_type": "code",
   "execution_count": 2,
   "metadata": {},
   "outputs": [],
   "source": [
    "import torch as th\n",
    "import torch.nn as nn\n",
    "\n",
    "from torchvision import datasets, transforms\n",
    "from torchvision.transforms import ToTensor\n",
    "\n",
    "import matplotlib.pyplot as plt\n",
    "import numpy as np\n",
    "\n",
    "import tqdm"
   ]
  },
  {
   "cell_type": "markdown",
   "metadata": {},
   "source": [
    "### Downloading & Labeling Data using PyTorch"
   ]
  },
  {
   "cell_type": "code",
   "execution_count": 3,
   "metadata": {},
   "outputs": [],
   "source": [
    "train_data = datasets.MNIST (\n",
    "    root=\"data\",\n",
    "    train=True,\n",
    "    download=True,\n",
    "    transform=ToTensor(),\n",
    "    target_transform=None,\n",
    ")\n",
    "\n",
    "test_data = datasets.MNIST (\n",
    "    root=\"data\",\n",
    "    train=False,\n",
    "    download=True,\n",
    "    transform=ToTensor(),\n",
    "    target_transform=None,\n",
    ")\n",
    "\n"
   ]
  },
  {
   "cell_type": "markdown",
   "metadata": {},
   "source": [
    "#### Showing Sample of data"
   ]
  },
  {
   "cell_type": "code",
   "execution_count": 4,
   "metadata": {},
   "outputs": [
    {
     "data": {
      "image/png": "[encoded data removed]",
      "text/plain": [
       "<Figure size 1500x1500 with 5 Axes>"
      ]
     },
     "metadata": {},
     "output_type": "display_data"
    }
   ],
   "source": [
    "fig, axes = plt.subplots(1, 5, figsize=(15, 15))\n",
    "for i in range(5):\n",
    "    idx = np.random.randint(0, len(train_data))\n",
    "    image, label = train_data[idx]\n",
    "    axes[i].imshow(image.squeeze(), cmap=\"gray\")\n",
    "    axes[i].set_title(train_data.classes[label])\n",
    "    axes[i].axis(False)"
   ]
  },
  {
   "cell_type": "markdown",
   "metadata": {},
   "source": [
    "## Feature Extraction with SIFT and Bag-of-Words\n",
    "\n",
    "Methodology:\n",
    "1. Function to convert PyTorch tensor images to 8-bit numpy arrays\n",
    "2. Convert dataset images to numpy arrays in the correct format\n",
    "3. SIFT feature extractor\n",
    "4. Function to extract SIFT features from images\n",
    "5. Extract SIFT features from the training images\n",
    "6. Function to create histograms of visual words"
   ]
  },
  {
   "cell_type": "code",
   "execution_count": 5,
   "metadata": {},
   "outputs": [
    {
     "name": "stderr",
     "output_type": "stream",
     "text": [
      "100%|██████████| 60000/60000 [00:17<00:00, 3403.35it/s]\n",
      "100%|██████████| 10000/10000 [00:02<00:00, 3407.36it/s]\n",
      "/Users/yahiaehab/University/Projects/ImgProcessing/Project/env/lib/python3.8/site-packages/sklearn/cluster/_kmeans.py:1934: FutureWarning: The default value of `n_init` will change from 3 to 'auto' in 1.4. Set the value of `n_init` explicitly to suppress the warning\n",
      "  super()._check_params_vs_input(X, default_n_init=3)\n"
     ]
    }
   ],
   "source": [
    "import cv2\n",
    "import numpy as np\n",
    "from sklearn.cluster import MiniBatchKMeans\n",
    "from sklearn.preprocessing import StandardScaler\n",
    "import torch\n",
    "from torchvision import datasets, transforms\n",
    "\n",
    "\n",
    "\n",
    "def tensor_to_cv2(tensor_img):\n",
    "    img = tensor_img.numpy().squeeze() * 255  # Convert to numpy and scale to [0, 255]\n",
    "    img = img.astype(np.uint8)  # Convert to uint8\n",
    "    return img\n",
    "\n",
    "\n",
    "train_images = [tensor_to_cv2(image) for image, label in train_data]\n",
    "test_images = [tensor_to_cv2(image) for image, label in test_data]\n",
    "\n",
    "sift = cv2.SIFT_create()\n",
    "\n",
    "\n",
    "def extract_sift_features(images):\n",
    "    descriptors = []\n",
    "    for img in tqdm.tqdm(images):\n",
    "        kp, des = sift.detectAndCompute(img, None)\n",
    "        if des is not None:\n",
    "            descriptors.append(des)\n",
    "    return descriptors\n",
    "\n",
    "\n",
    "train_descriptors = extract_sift_features(train_images)\n",
    "test_descriptors = extract_sift_features(test_images)\n",
    "\n",
    "# Clustering using MiniBatchKMeans for better performance\n",
    "kmeans = MiniBatchKMeans(n_clusters=500, batch_size=1000, random_state=42)\n",
    "kmeans.fit(np.vstack(train_descriptors))\n",
    "\n",
    "\n",
    "def create_histograms(descriptors, kmeans):\n",
    "    histograms = []\n",
    "    for des in descriptors:\n",
    "        hist = np.zeros(len(kmeans.cluster_centers_))\n",
    "        if des is not None:\n",
    "            clusters = kmeans.predict(des)\n",
    "            for c in clusters:\n",
    "                hist[c] += 1\n",
    "        histograms.append(hist)\n",
    "    return histograms\n",
    "\n",
    "\n",
    "train_histograms = create_histograms(train_descriptors, kmeans)\n",
    "test_histograms = create_histograms(test_descriptors, kmeans)\n",
    "scaler = StandardScaler().fit(train_histograms)\n",
    "train_histograms = scaler.transform(train_histograms)\n",
    "test_histograms = scaler.transform(test_histograms)\n",
    "\n",
    "# "
   ]
  },
  {
   "cell_type": "markdown",
   "metadata": {},
   "source": [
    "### Machine Learning with Bag-of-Words Representation\n",
    "\n",
    "Methodology:\n",
    "1. Extract valid labels corresponding to images with SIFT descriptors\n",
    "2. Apply PCA for dimensionality reduction\n",
    "3. Train the Support Vector Classifier"
   ]
  },
  {
   "cell_type": "code",
   "execution_count": 6,
   "metadata": {},
   "outputs": [
    {
     "name": "stdout",
     "output_type": "stream",
     "text": [
      "[LibSVM]..........................*..........*.*\n",
      "optimization finished, #iter = 37100\n",
      "obj = -21263.789190, rho = 0.229054\n",
      "nSV = 8255, nBSV = 1862\n",
      "...........................*........*\n",
      "optimization finished, #iter = 35765\n",
      "obj = -20087.464988, rho = 0.052028\n",
      "nSV = 7808, nBSV = 1783\n",
      "...........................*..........*.*\n",
      "optimization finished, #iter = 38114\n",
      "obj = -19992.957735, rho = -0.043605\n",
      "nSV = 7890, nBSV = 1722\n",
      ".........................*........*\n",
      "optimization finished, #iter = 33718\n",
      "obj = -19801.238330, rho = -0.166949\n",
      "nSV = 7742, nBSV = 1725\n",
      "........................*.........*\n",
      "optimization finished, #iter = 33299\n",
      "obj = -18906.337332, rho = -0.323486\n",
      "nSV = 7479, nBSV = 1646\n",
      ".........................*.........*\n",
      "optimization finished, #iter = 34857\n",
      "obj = -20389.934489, rho = -0.005416\n",
      "nSV = 7803, nBSV = 1795\n",
      "..........................*...........*....*\n",
      "optimization finished, #iter = 40608\n",
      "obj = -20449.482500, rho = 0.084487\n",
      "nSV = 8054, nBSV = 1787\n",
      "..........................*.........*\n",
      "optimization finished, #iter = 35211\n",
      "obj = -19973.785621, rho = -0.055177\n",
      "nSV = 7755, nBSV = 1755\n",
      ".........................*..........*.*\n",
      "optimization finished, #iter = 36066\n",
      "obj = -20105.029647, rho = -0.014910\n",
      "nSV = 7795, nBSV = 1773\n",
      "..............................*............*....*\n",
      "optimization finished, #iter = 45759\n",
      "obj = -21409.344700, rho = -0.186525\n",
      "nSV = 8433, nBSV = 1865\n",
      ".............................*.............*.*\n",
      "optimization finished, #iter = 42720\n",
      "obj = -21387.794763, rho = -0.241848\n",
      "nSV = 8453, nBSV = 1872\n",
      "..............................*.........*\n",
      "optimization finished, #iter = 39926\n",
      "obj = -20872.829676, rho = -0.360424\n",
      "nSV = 8297, nBSV = 1812\n",
      "............................*...........*.*\n",
      "optimization finished, #iter = 40627\n",
      "obj = -19831.251163, rho = -0.486790\n",
      "nSV = 8054, nBSV = 1707\n",
      ".............................*..........*..*\n",
      "optimization finished, #iter = 41059\n",
      "obj = -21721.783452, rho = -0.236726\n",
      "nSV = 8425, nBSV = 1902\n",
      ".............................*...........*\n",
      "optimization finished, #iter = 40105\n",
      "obj = -21843.789584, rho = -0.151635\n",
      "nSV = 8589, nBSV = 1920\n",
      "............................*............*.*\n",
      "optimization finished, #iter = 40883\n",
      "obj = -20988.101402, rho = -0.264324\n",
      "nSV = 8285, nBSV = 1832\n",
      "............................*.........*\n",
      "optimization finished, #iter = 37715\n",
      "obj = -21272.048637, rho = -0.244154\n",
      "nSV = 8404, nBSV = 1881\n",
      "..........................*........*\n",
      "optimization finished, #iter = 34592\n",
      "obj = -20347.628869, rho = -0.088846\n",
      "nSV = 7952, nBSV = 1787\n",
      "............................*.......*\n",
      "optimization finished, #iter = 35380\n",
      "obj = -19697.472499, rho = -0.202370\n",
      "nSV = 7786, nBSV = 1710\n",
      "........................*...........*...*\n",
      "optimization finished, #iter = 37874\n",
      "obj = -18639.111959, rho = -0.373106\n",
      "nSV = 7477, nBSV = 1646\n",
      "..........................*..........*....*\n",
      "optimization finished, #iter = 39591\n",
      "obj = -20306.434007, rho = -0.080198\n",
      "nSV = 7839, nBSV = 1792\n",
      "..........................*..........*.*\n",
      "optimization finished, #iter = 36869\n",
      "obj = -20609.283268, rho = 0.009685\n",
      "nSV = 8085, nBSV = 1803\n",
      ".........................*..........*.*\n",
      "optimization finished, #iter = 35469\n",
      "obj = -19818.975084, rho = -0.114636\n",
      "nSV = 7814, nBSV = 1744\n",
      "..........................*...........*.*\n",
      "optimization finished, #iter = 38458\n",
      "obj = -20165.071144, rho = -0.052101\n",
      "nSV = 7933, nBSV = 1778\n",
      "...........................*.......*\n",
      "optimization finished, #iter = 34993\n",
      "obj = -19927.421469, rho = -0.104840\n",
      "nSV = 7860, nBSV = 1730\n",
      "..........................*...........*\n",
      "optimization finished, #iter = 37325\n",
      "obj = -18923.601738, rho = -0.288582\n",
      "nSV = 7651, nBSV = 1641\n",
      "............................*.........*.*\n",
      "optimization finished, #iter = 37323\n",
      "obj = -20473.729903, rho = 0.020669\n",
      "nSV = 7943, nBSV = 1803\n",
      "............................*.........*...*\n",
      "optimization finished, #iter = 40213\n",
      "obj = -20614.576236, rho = 0.074209\n",
      "nSV = 8149, nBSV = 1783\n",
      "............................*........*\n",
      "optimization finished, #iter = 36760\n",
      "obj = -20067.155394, rho = -0.049141\n",
      "nSV = 7897, nBSV = 1762\n",
      "............................*..........*..*\n",
      "optimization finished, #iter = 39874\n",
      "obj = -20051.472295, rho = -0.017543\n",
      "nSV = 7951, nBSV = 1749\n",
      "........................*..........*..*\n",
      "optimization finished, #iter = 36094\n",
      "obj = -18709.054722, rho = -0.182813\n",
      "nSV = 7447, nBSV = 1628\n",
      "...........................*........*\n",
      "optimization finished, #iter = 35153\n",
      "obj = -19963.789124, rho = 0.138390\n",
      "nSV = 7827, nBSV = 1757\n",
      "............................*........*\n",
      "optimization finished, #iter = 36077\n",
      "obj = -20059.547472, rho = 0.211883\n",
      "nSV = 8029, nBSV = 1758\n",
      "...........................*.........*.*\n",
      "optimization finished, #iter = 37518\n",
      "obj = -19516.765660, rho = 0.094177\n",
      "nSV = 7704, nBSV = 1692\n",
      "..........................*...........*.*\n",
      "optimization finished, #iter = 38173\n",
      "obj = -19707.696780, rho = 0.110050\n",
      "nSV = 7841, nBSV = 1736\n",
      ".........................*.......*.*\n",
      "optimization finished, #iter = 33333\n",
      "obj = -18984.342035, rho = 0.320130\n",
      "nSV = 7511, nBSV = 1668\n",
      "..........................*.........*\n",
      "optimization finished, #iter = 35121\n",
      "obj = -18908.028060, rho = 0.389992\n",
      "nSV = 7660, nBSV = 1649\n",
      ".......................*.......*\n",
      "optimization finished, #iter = 30687\n",
      "obj = -18503.293197, rho = 0.275251\n",
      "nSV = 7408, nBSV = 1625\n",
      "........................*...........*....*\n",
      "optimization finished, #iter = 39163\n",
      "obj = -18666.702219, rho = 0.297493\n",
      "nSV = 7525, nBSV = 1633\n",
      "...........................*..........*.*\n",
      "optimization finished, #iter = 38295\n",
      "obj = -20628.900177, rho = 0.088095\n",
      "nSV = 8040, nBSV = 1837\n",
      "..........................*.........*\n",
      "optimization finished, #iter = 35354\n",
      "obj = -20076.780850, rho = -0.040940\n",
      "nSV = 7803, nBSV = 1761\n",
      "..........................*..........*.*\n",
      "optimization finished, #iter = 37594\n",
      "obj = -20419.151859, rho = -0.035231\n",
      "nSV = 7867, nBSV = 1806\n",
      "..........................*.........*.*\n",
      "optimization finished, #iter = 35934\n",
      "obj = -20169.624195, rho = -0.141458\n",
      "nSV = 7958, nBSV = 1780\n",
      "...........................*...........*..*\n",
      "optimization finished, #iter = 39650\n",
      "obj = -20465.490396, rho = -0.113436\n",
      "nSV = 8096, nBSV = 1806\n",
      "..........................*...........*.*\n",
      "optimization finished, #iter = 37503\n",
      "obj = -19624.110735, rho = 0.025777\n",
      "nSV = 7841, nBSV = 1745\n",
      "Total nSV = 46525\n"
     ]
    },
    {
     "data": {
      "text/html": [
       "<style>#sk-container-id-1 {color: black;}#sk-container-id-1 pre{padding: 0;}#sk-container-id-1 div.sk-toggleable {background-color: white;}#sk-container-id-1 label.sk-toggleable__label {cursor: pointer;display: block;width: 100%;margin-bottom: 0;padding: 0.3em;box-sizing: border-box;text-align: center;}#sk-container-id-1 label.sk-toggleable__label-arrow:before {content: \"▸\";float: left;margin-right: 0.25em;color: #696969;}#sk-container-id-1 label.sk-toggleable__label-arrow:hover:before {color: black;}#sk-container-id-1 div.sk-estimator:hover label.sk-toggleable__label-arrow:before {color: black;}#sk-container-id-1 div.sk-toggleable__content {max-height: 0;max-width: 0;overflow: hidden;text-align: left;background-color: #f0f8ff;}#sk-container-id-1 div.sk-toggleable__content pre {margin: 0.2em;color: black;border-radius: 0.25em;background-color: #f0f8ff;}#sk-container-id-1 input.sk-toggleable__control:checked~div.sk-toggleable__content {max-height: 200px;max-width: 100%;overflow: auto;}#sk-container-id-1 input.sk-toggleable__control:checked~label.sk-toggleable__label-arrow:before {content: \"▾\";}#sk-container-id-1 div.sk-estimator input.sk-toggleable__control:checked~label.sk-toggleable__label {background-color: #d4ebff;}#sk-container-id-1 div.sk-label input.sk-toggleable__control:checked~label.sk-toggleable__label {background-color: #d4ebff;}#sk-container-id-1 input.sk-hidden--visually {border: 0;clip: rect(1px 1px 1px 1px);clip: rect(1px, 1px, 1px, 1px);height: 1px;margin: -1px;overflow: hidden;padding: 0;position: absolute;width: 1px;}#sk-container-id-1 div.sk-estimator {font-family: monospace;background-color: #f0f8ff;border: 1px dotted black;border-radius: 0.25em;box-sizing: border-box;margin-bottom: 0.5em;}#sk-container-id-1 div.sk-estimator:hover {background-color: #d4ebff;}#sk-container-id-1 div.sk-parallel-item::after {content: \"\";width: 100%;border-bottom: 1px solid gray;flex-grow: 1;}#sk-container-id-1 div.sk-label:hover label.sk-toggleable__label {background-color: #d4ebff;}#sk-container-id-1 div.sk-serial::before {content: \"\";position: absolute;border-left: 1px solid gray;box-sizing: border-box;top: 0;bottom: 0;left: 50%;z-index: 0;}#sk-container-id-1 div.sk-serial {display: flex;flex-direction: column;align-items: center;background-color: white;padding-right: 0.2em;padding-left: 0.2em;position: relative;}#sk-container-id-1 div.sk-item {position: relative;z-index: 1;}#sk-container-id-1 div.sk-parallel {display: flex;align-items: stretch;justify-content: center;background-color: white;position: relative;}#sk-container-id-1 div.sk-item::before, #sk-container-id-1 div.sk-parallel-item::before {content: \"\";position: absolute;border-left: 1px solid gray;box-sizing: border-box;top: 0;bottom: 0;left: 50%;z-index: -1;}#sk-container-id-1 div.sk-parallel-item {display: flex;flex-direction: column;z-index: 1;position: relative;background-color: white;}#sk-container-id-1 div.sk-parallel-item:first-child::after {align-self: flex-end;width: 50%;}#sk-container-id-1 div.sk-parallel-item:last-child::after {align-self: flex-start;width: 50%;}#sk-container-id-1 div.sk-parallel-item:only-child::after {width: 0;}#sk-container-id-1 div.sk-dashed-wrapped {border: 1px dashed gray;margin: 0 0.4em 0.5em 0.4em;box-sizing: border-box;padding-bottom: 0.4em;background-color: white;}#sk-container-id-1 div.sk-label label {font-family: monospace;font-weight: bold;display: inline-block;line-height: 1.2em;}#sk-container-id-1 div.sk-label-container {text-align: center;}#sk-container-id-1 div.sk-container {/* jupyter's `normalize.less` sets `[hidden] { display: none; }` but bootstrap.min.css set `[hidden] { display: none !important; }` so we also need the `!important` here to be able to override the default hidden behavior on the sphinx rendered scikit-learn.org. See: https://github.com/scikit-learn/scikit-learn/issues/21755 */display: inline-block !important;position: relative;}#sk-container-id-1 div.sk-text-repr-fallback {display: none;}</style><div id=\"sk-container-id-1\" class=\"sk-top-container\"><div class=\"sk-text-repr-fallback\"><pre>SVC(C=10, gamma=0.01, kernel=&#x27;poly&#x27;, random_state=42, verbose=True)</pre><b>In a Jupyter environment, please rerun this cell to show the HTML representation or trust the notebook. <br />On GitHub, the HTML representation is unable to render, please try loading this page with nbviewer.org.</b></div><div class=\"sk-container\" hidden><div class=\"sk-item\"><div class=\"sk-estimator sk-toggleable\"><input class=\"sk-toggleable__control sk-hidden--visually\" id=\"sk-estimator-id-1\" type=\"checkbox\" checked><label for=\"sk-estimator-id-1\" class=\"sk-toggleable__label sk-toggleable__label-arrow\">SVC</label><div class=\"sk-toggleable__content\"><pre>SVC(C=10, gamma=0.01, kernel=&#x27;poly&#x27;, random_state=42, verbose=True)</pre></div></div></div></div></div>"
      ],
      "text/plain": [
       "SVC(C=10, gamma=0.01, kernel='poly', random_state=42, verbose=True)"
      ]
     },
     "execution_count": 6,
     "metadata": {},
     "output_type": "execute_result"
    }
   ],
   "source": [
    "from sklearn.decomposition import PCA\n",
    "from sklearn.svm import SVC\n",
    "from sklearn.model_selection import train_test_split\n",
    "from sklearn.metrics import accuracy_score, classification_report, confusion_matrix\n",
    "\n",
    "valid_labels = [\n",
    "    label\n",
    "    for (image, label), des in zip(train_data, train_descriptors)\n",
    "    if des is not None\n",
    "]\n",
    "valid_labels_test = [\n",
    "    label for (image, label), des in zip(test_data, test_descriptors) if des is not None\n",
    "]\n",
    "\n",
    "# Ensure the histograms and labels have the same length\n",
    "assert len(train_histograms) == len(\n",
    "    valid_labels\n",
    "), \"Mismatch between histograms and labels\"\n",
    "assert len(test_histograms) == len(\n",
    "    valid_labels_test\n",
    "), \"Mismatch between histograms and labels\"\n",
    "\n",
    "pca = PCA(n_components=100)  # Reduce to 100 dimensions, you can adjust this number\n",
    "train_histograms_pca = pca.fit_transform(train_histograms)\n",
    "test_histograms_pca = pca.transform(test_histograms)\n",
    "\n",
    "X_train, X_val, y_train, y_val = train_test_split(\n",
    "    train_histograms_pca, valid_labels, test_size=0.2, random_state=42\n",
    ")\n",
    "\n",
    "svc = SVC(kernel=\"poly\", C=10, gamma=0.01, random_state=42, verbose=True)\n",
    "svc.fit(X_train, y_train)"
   ]
  },
  {
   "cell_type": "markdown",
   "metadata": {},
   "source": [
    "#### Validation & Visualization"
   ]
  },
  {
   "cell_type": "code",
   "execution_count": 7,
   "metadata": {},
   "outputs": [
    {
     "name": "stdout",
     "output_type": "stream",
     "text": [
      "Validation Accuracy: 0.10515991471215352\n",
      "Validation Classification Report:\n",
      "               precision    recall  f1-score   support\n",
      "\n",
      "           0       0.11      0.11      0.11      1203\n",
      "           1       0.11      0.22      0.15      1292\n",
      "           2       0.09      0.09      0.09      1168\n",
      "           3       0.12      0.10      0.11      1200\n",
      "           4       0.10      0.09      0.10      1150\n",
      "           5       0.11      0.08      0.09      1082\n",
      "           6       0.11      0.09      0.10      1126\n",
      "           7       0.10      0.10      0.10      1194\n",
      "           8       0.09      0.07      0.08      1157\n",
      "           9       0.09      0.07      0.08      1153\n",
      "\n",
      "    accuracy                           0.11     11725\n",
      "   macro avg       0.10      0.10      0.10     11725\n",
      "weighted avg       0.10      0.11      0.10     11725\n",
      "\n",
      "Validation Confusion Matrix:\n",
      " [[138 264 113 105 105  68  92 135  87  96]\n",
      " [135 283 143 116 103  92  82 139 100  99]\n",
      " [130 240 110  96 104  85  94 124  99  86]\n",
      " [121 262 130 125  91  80 100 122  82  87]\n",
      " [125 257 114 109 101  82  86 106  74  96]\n",
      " [ 96 221 116 118  83  89  94 102  84  79]\n",
      " [119 227 107  97 101  91 100 119  84  81]\n",
      " [121 229 120 117  99  89  91 124  95 109]\n",
      " [138 236 127 101  95  79  94 124  78  85]\n",
      " [116 249 132  94  92  85  80 134  86  85]]\n",
      "Test Accuracy: 0.10202205882352941\n",
      "Test Classification Report:\n",
      "               precision    recall  f1-score   support\n",
      "\n",
      "           0       0.10      0.10      0.10       959\n",
      "           1       0.12      0.22      0.15      1107\n",
      "           2       0.11      0.10      0.11      1010\n",
      "           3       0.09      0.09      0.09       989\n",
      "           4       0.08      0.07      0.07       961\n",
      "           5       0.09      0.07      0.08       878\n",
      "           6       0.09      0.08      0.08       937\n",
      "           7       0.10      0.10      0.10      1003\n",
      "           8       0.12      0.09      0.10       953\n",
      "           9       0.11      0.08      0.09       995\n",
      "\n",
      "    accuracy                           0.10      9792\n",
      "   macro avg       0.10      0.10      0.10      9792\n",
      "weighted avg       0.10      0.10      0.10      9792\n",
      "\n",
      "Test Confusion Matrix:\n",
      " [[ 97 204  92  88  93  65  87  89  80  64]\n",
      " [113 248 113 108  87  83  84 127  73  71]\n",
      " [105 211 106  87  99  65  75 105  77  80]\n",
      " [ 87 225 115  88  67  54 101 107  70  75]\n",
      " [ 86 207  98 103  65  70  76  99  75  82]\n",
      " [ 97 182  77  94  64  58  81  97  58  70]\n",
      " [108 218  98  90  71  61  73  90  66  62]\n",
      " [117 211 102  94  88  70  68  97  76  80]\n",
      " [103 190  95  85  67  64  83  99  85  82]\n",
      " [ 98 246  88  98  79  64  75  93  72  82]]\n"
     ]
    }
   ],
   "source": [
    "y_pred_val = svc.predict(X_val)\n",
    "print(f\"Validation Accuracy: {accuracy_score(y_val, y_pred_val)}\")\n",
    "print(\"Validation Classification Report:\\n\", classification_report(y_val, y_pred_val))\n",
    "print(\"Validation Confusion Matrix:\\n\", confusion_matrix(y_val, y_pred_val))\n",
    "\n",
    "y_pred_test = svc.predict(test_histograms_pca)\n",
    "print(f\"Test Accuracy: {accuracy_score(valid_labels_test, y_pred_test)}\")\n",
    "print(\n",
    "    \"Test Classification Report:\\n\",\n",
    "    classification_report(valid_labels_test, y_pred_test),\n",
    ")\n",
    "print(\"Test Confusion Matrix:\\n\", confusion_matrix(valid_labels_test, y_pred_test))"
   ]
  },
  {
   "cell_type": "code",
   "execution_count": 8,
   "metadata": {},
   "outputs": [
    {
     "data": {
      "image/png": "[encoded data removed]",
      "text/plain": [
       "<Figure size 1500x1500 with 5 Axes>"
      ]
     },
     "metadata": {},
     "output_type": "display_data"
    }
   ],
   "source": [
    "import matplotlib.pyplot as plt\n",
    "import numpy as np\n",
    "\n",
    "\n",
    "## Plot the predicted vs actual with green color for correct predictions and red color for incorrect predictions\n",
    "fig, axes = plt.subplots(1, 5, figsize=(15, 15))\n",
    "for i in range(5):\n",
    "    idx = np.random.randint(0, len(test_data))\n",
    "    image, label = test_data[idx]\n",
    "    pred = y_pred_test[idx]\n",
    "    color = \"green\" if label == pred else \"red\"\n",
    "    axes[i].imshow(image.squeeze(), cmap=\"gray\")\n",
    "    axes[i].set_title(f\"True: {test_data.classes[label]}, Pred: {train_data.classes[pred]}\", color=color)\n",
    "    axes[i].axis(False)\n",
    "\n",
    "plt.show()"
   ]
  },
  {
   "cell_type": "markdown",
   "metadata": {},
   "source": [
    "## Deep Learning with CNN\n",
    "\n",
    "1. Define the CNN model\n",
    "2. Compile the model\n",
    "3. Prepare the data for training"
   ]
  },
  {
   "cell_type": "code",
   "execution_count": 9,
   "metadata": {},
   "outputs": [
    {
     "name": "stdout",
     "output_type": "stream",
     "text": [
      "Epoch 1/5\n",
      "1500/1500 [==============================] - 13s 9ms/step - loss: 0.1639 - accuracy: 0.9507 - val_loss: 0.0694 - val_accuracy: 0.9791\n",
      "Epoch 2/5\n",
      "1500/1500 [==============================] - 12s 8ms/step - loss: 0.0509 - accuracy: 0.9840 - val_loss: 0.0448 - val_accuracy: 0.9862\n",
      "Epoch 3/5\n",
      "1500/1500 [==============================] - 13s 8ms/step - loss: 0.0364 - accuracy: 0.9887 - val_loss: 0.0431 - val_accuracy: 0.9874\n",
      "Epoch 4/5\n",
      "1500/1500 [==============================] - 13s 9ms/step - loss: 0.0280 - accuracy: 0.9910 - val_loss: 0.0433 - val_accuracy: 0.9883\n",
      "Epoch 5/5\n",
      "1500/1500 [==============================] - 13s 9ms/step - loss: 0.0211 - accuracy: 0.9933 - val_loss: 0.0408 - val_accuracy: 0.9874\n",
      "313/313 - 1s - loss: 0.0327 - accuracy: 0.9900 - 757ms/epoch - 2ms/step\n",
      "Test accuracy: 0.9900000095367432\n"
     ]
    }
   ],
   "source": [
    "import tensorflow as tf\n",
    "from tensorflow.keras import layers, models\n",
    "import seaborn as sns\n",
    "\n",
    "model = models.Sequential(\n",
    "    [\n",
    "        layers.Conv2D(32, (3, 3), activation=\"relu\", input_shape=(28, 28, 1)),\n",
    "        layers.MaxPooling2D((2, 2)),\n",
    "        layers.Conv2D(64, (3, 3), activation=\"relu\"),\n",
    "        layers.MaxPooling2D((2, 2)),\n",
    "        layers.Conv2D(64, (3, 3), activation=\"relu\"),\n",
    "        layers.Flatten(),\n",
    "        layers.Dense(64, activation=\"relu\"),\n",
    "        layers.Dense(10, activation=\"softmax\"),\n",
    "    ]\n",
    ")\n",
    "\n",
    "model.compile(\n",
    "    optimizer=\"adam\", loss=\"sparse_categorical_crossentropy\", metrics=[\"accuracy\"]\n",
    ")\n",
    "\n",
    "X_train_cnn = np.array(\n",
    "    [image.numpy().reshape(28, 28, 1) for image, label in train_data]\n",
    ")\n",
    "y_train_cnn = np.array([label for image, label in train_data])\n",
    "X_test_cnn = np.array([image.numpy().reshape(28, 28, 1) for image, label in test_data])\n",
    "y_test_cnn = np.array([label for image, label in test_data])\n",
    "\n",
    "history = model.fit(X_train_cnn, y_train_cnn, epochs=5, validation_split=0.2)\n",
    "\n",
    "test_loss, test_acc = model.evaluate(X_test_cnn, y_test_cnn, verbose=2)\n",
    "print(f\"Test accuracy: {test_acc}\")\n",
    "\n"
   ]
  },
  {
   "cell_type": "markdown",
   "metadata": {},
   "source": [
    "### Classification & Visualization"
   ]
  },
  {
   "cell_type": "code",
   "execution_count": 10,
   "metadata": {},
   "outputs": [
    {
     "name": "stdout",
     "output_type": "stream",
     "text": [
      "313/313 [==============================] - 1s 2ms/step\n",
      "CNN Classification Report:\n",
      "               precision    recall  f1-score   support\n",
      "\n",
      "           0       0.98      1.00      0.99       980\n",
      "           1       0.99      1.00      1.00      1135\n",
      "           2       1.00      0.99      0.99      1032\n",
      "           3       0.98      1.00      0.99      1010\n",
      "           4       0.99      1.00      0.99       982\n",
      "           5       0.99      0.98      0.99       892\n",
      "           6       0.99      0.99      0.99       958\n",
      "           7       0.98      1.00      0.99      1028\n",
      "           8       1.00      0.98      0.99       974\n",
      "           9       0.99      0.98      0.98      1009\n",
      "\n",
      "    accuracy                           0.99     10000\n",
      "   macro avg       0.99      0.99      0.99     10000\n",
      "weighted avg       0.99      0.99      0.99     10000\n",
      "\n"
     ]
    },
    {
     "data": {
      "image/png": "[encoded data removed]",
      "text/plain": [
       "<Figure size 1000x700 with 2 Axes>"
      ]
     },
     "metadata": {},
     "output_type": "display_data"
    }
   ],
   "source": [
    "y_pred_cnn = np.argmax(model.predict(X_test_cnn), axis=-1)\n",
    "print(\"CNN Classification Report:\\n\", classification_report(y_test_cnn, y_pred_cnn))\n",
    "\n",
    "conf_matrix = confusion_matrix(y_test_cnn, y_pred_cnn)\n",
    "\n",
    "plt.figure(figsize=(10, 7))\n",
    "sns.heatmap(\n",
    "    conf_matrix,\n",
    "    annot=True,\n",
    "    fmt=\"d\",\n",
    "    cmap=\"Blues\",\n",
    "    xticklabels=train_data.classes,\n",
    "    yticklabels=train_data.classes,\n",
    ")\n",
    "plt.xlabel(\"Predicted\")\n",
    "plt.ylabel(\"True\")\n",
    "plt.title(\"Confusion Matrix for CNN\")\n",
    "plt.show()"
   ]
  },
  {
   "cell_type": "code",
   "execution_count": 11,
   "metadata": {},
   "outputs": [
    {
     "data": {
      "image/png": "[encoded data removed]",
      "text/plain": [
       "<Figure size 1500x1500 with 5 Axes>"
      ]
     },
     "metadata": {},
     "output_type": "display_data"
    }
   ],
   "source": [
    "fig, axes = plt.subplots(1, 5, figsize=(15, 15))\n",
    "for i in range(5):\n",
    "    idx = np.random.randint(0, len(test_data))\n",
    "    image, label = test_data[idx]\n",
    "    pred = y_pred_cnn[idx]\n",
    "    color = \"green\" if label == pred else \"red\"\n",
    "    axes[i].imshow(image.squeeze(), cmap=\"gray\")\n",
    "    axes[i].set_title(f\"True: {test_data.classes[label]}, Pred: {train_data.classes[pred]}\", color=color)\n",
    "    axes[i].axis(False)\n",
    "\n",
    "plt.show()"
   ]
  }
 ],
 "metadata": {
  "kernelspec": {
   "display_name": "Python 3",
   "language": "python",
   "name": "python3"
  },
  "language_info": {
   "codemirror_mode": {
    "name": "ipython",
    "version": 3
   },
   "file_extension": ".py",
   "mimetype": "text/x-python",
   "name": "python",
   "nbconvert_exporter": "python",
   "pygments_lexer": "ipython3",
   "version": "3.8.19"
  }
 },
 "nbformat": 4,
 "nbformat_minor": 2
}
